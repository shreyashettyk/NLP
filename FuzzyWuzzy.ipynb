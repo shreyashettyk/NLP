{
 "cells": [
  {
   "cell_type": "code",
   "execution_count": 3,
   "metadata": {},
   "outputs": [
    {
     "name": "stdout",
     "output_type": "stream",
     "text": [
      "Requirement already satisfied: fuzzywuzzy in c:\\anaconda3\\lib\\site-packages (0.18.0)\n"
     ]
    },
    {
     "name": "stderr",
     "output_type": "stream",
     "text": [
      "distributed 1.21.8 requires msgpack, which is not installed.\n",
      "You are using pip version 10.0.1, however version 21.0.1 is available.\n",
      "You should consider upgrading via the 'python -m pip install --upgrade pip' command.\n"
     ]
    }
   ],
   "source": [
    "!pip install fuzzywuzzy"
   ]
  },
  {
   "cell_type": "code",
   "execution_count": 5,
   "metadata": {},
   "outputs": [],
   "source": [
    "from fuzzywuzzy import fuzz"
   ]
  },
  {
   "cell_type": "code",
   "execution_count": 6,
   "metadata": {},
   "outputs": [],
   "source": [
    "## Fuzz Ratio measures the minimumnumber of edits , additions or deletions to go from s1 to s2 or vice versa"
   ]
  },
  {
   "cell_type": "code",
   "execution_count": 10,
   "metadata": {},
   "outputs": [
    {
     "name": "stdout",
     "output_type": "stream",
     "text": [
      "92\n",
      "100\n",
      "38\n"
     ]
    }
   ],
   "source": [
    "print(fuzz.ratio('this is a pen','this is pen'))\n",
    "print(fuzz.ratio('this is a pen','this is a pen'))\n",
    "print(fuzz.ratio('pen','this is a pen'))"
   ]
  },
  {
   "cell_type": "code",
   "execution_count": 12,
   "metadata": {},
   "outputs": [
    {
     "name": "stdout",
     "output_type": "stream",
     "text": [
      "100\n",
      "67\n"
     ]
    }
   ],
   "source": [
    "#Fuzz partial ratio if s1 is a substring of s2 then we get a perfect score of 100 . Looks for substring in the same ordering \n",
    "#between two diffrent strings s1 and s2\n",
    "print(fuzz.partial_ratio('Bengaluru','Royal Challengers Bengaluru')) #substring bengaluru present\n",
    "print(fuzz.partial_ratio('Bengaluru Challengers','Royal Challengers Bengaluru')) #ordering of substring differs from main string\n",
    "\n"
   ]
  },
  {
   "cell_type": "code",
   "execution_count": 17,
   "metadata": {},
   "outputs": [
    {
     "name": "stdout",
     "output_type": "stream",
     "text": [
      "100\n",
      "76\n"
     ]
    }
   ],
   "source": [
    "#token sort ratio - identifies one string as substring of another even with change in ordering\n",
    "#given two strings tokenises them and sorts them in alphabetical order\n",
    "#not affected by how string are oredered\n",
    "#fails when two strings are of diffrent length\n",
    "\n",
    "print(fuzz.token_sort_ratio('Royal Challengers Bengaluru vs Kings Eleven Punjab','Kings Eleven Punjab vs Royal Challengers Bengaluru'))   #gives perfect 100\n",
    "\n",
    "print(fuzz.token_sort_ratio('Traditional Double Room, 2 Double Beds', 'Double Room with Two Double Bed'))"
   ]
  },
  {
   "cell_type": "code",
   "execution_count": 106,
   "metadata": {},
   "outputs": [
    {
     "name": "stdout",
     "output_type": "stream",
     "text": [
      "{'angels', 'vs', 'mariners'}\n",
      "{'angeles', 'mariners', 'angels', 'los', 'anaheim', 'at', 'of', 'seattle'}\n",
      "*****\n",
      "angels mariners\n",
      "angels mariners vs\n",
      "angels mariners anaheim angeles at los of seattle\n",
      "91\n",
      "47\n",
      "51\n",
      "91\n"
     ]
    }
   ],
   "source": [
    "#example taken from https://chairnerd.seatgeek.com/fuzzywuzzy-fuzzy-string-matching-in-python/\n",
    "#token set ratio - tokenises the input, sorts them then perform operation like \n",
    "# set intersection combined with set diffrence \n",
    "s1 = \"mariners vs angels\"\n",
    "s2 = \"los angeles angels of anaheim at seattle mariners\"\n",
    "# t1 = \"angels mariners vs\"\n",
    "# t2 = \"anaheim angeles angels at los mariners of seattle vs\"\n",
    "\n",
    "#step 1 tokenise the strings s1 and s2\n",
    "t1 = set(sorted(s1.split()))\n",
    "t2 = set(sorted(s2.split()))\n",
    "print(t1)\n",
    "print(t2)\n",
    "# t1 = \"angels mariners vs\"\n",
    "# t2 = \"anaheim angeles angels los mariners of seattle vs\"\n",
    "\n",
    "#step 2 compute set intersection between t1 and t2\n",
    "print('*'*5)\n",
    "\n",
    "t0 = \"angels mariners\"\n",
    "tok1 = \"angels mariners vs\"\n",
    "tok2 = \"angels mariners anaheim angeles at los of seattle\"\n",
    "print(t0)\n",
    "print(tok1)\n",
    "print(tok2)\n",
    "\n",
    "print(fuzz.ratio(t0,tok1))\n",
    "print(fuzz.ratio(t0,tok2))\n",
    "print(fuzz.ratio(tok1,tok2))\n",
    "print(fuzz.token_set_ratio(s1,s2))"
   ]
  },
  {
   "cell_type": "code",
   "execution_count": null,
   "metadata": {},
   "outputs": [],
   "source": []
  },
  {
   "cell_type": "code",
   "execution_count": null,
   "metadata": {},
   "outputs": [],
   "source": []
  }
 ],
 "metadata": {
  "kernelspec": {
   "display_name": "Python 3",
   "language": "python",
   "name": "python3"
  },
  "language_info": {
   "codemirror_mode": {
    "name": "ipython",
    "version": 3
   },
   "file_extension": ".py",
   "mimetype": "text/x-python",
   "name": "python",
   "nbconvert_exporter": "python",
   "pygments_lexer": "ipython3",
   "version": "3.6.5"
  }
 },
 "nbformat": 4,
 "nbformat_minor": 2
}
